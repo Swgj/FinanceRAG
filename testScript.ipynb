{
 "cells": [
  {
   "cell_type": "markdown",
   "metadata": {},
   "source": [
    "https://medium.com/@bavalpreetsinghh/llamaindex-chunking-strategies-for-large-language-models-part-1-ded1218cfd30"
   ]
  },
  {
   "cell_type": "code",
   "execution_count": null,
   "metadata": {},
   "outputs": [
    {
     "name": "stderr",
     "output_type": "stream",
     "text": [
      "/opt/homebrew/anaconda3/envs/finrag/lib/python3.11/site-packages/sentence_transformers/cross_encoder/CrossEncoder.py:13: TqdmExperimentalWarning: Using `tqdm.autonotebook.tqdm` in notebook mode. Use `tqdm.tqdm` instead to force console mode (e.g. in jupyter console)\n",
      "  from tqdm.autonotebook import tqdm, trange\n"
     ]
    }
   ],
   "source": [
    "from rag.document_parse import docs_parse\n",
    "from src.rag.data_to_milvus import load_nodes_to_milvus\n",
    "from src.rag.data_to_milvus import create_milvus_collection, insert_embeddings_to_milvus\n",
    "from src.config import config\n",
    "import os"
   ]
  },
  {
   "cell_type": "code",
   "execution_count": 2,
   "metadata": {},
   "outputs": [
    {
     "data": {
      "text/plain": [
       "80"
      ]
     },
     "execution_count": 2,
     "metadata": {},
     "output_type": "execute_result"
    }
   ],
   "source": [
    "# Load Markdown files\n",
    "md_files = []\n",
    "md_files_dir = config.get_path('dataset', 'preprocessed_md')\n",
    "for root, dirs, files in os.walk(md_files_dir):\n",
    "    for file in files:\n",
    "        if file.endswith('.md'):\n",
    "            md_files.append(os.path.join(root, file))\n",
    "\n",
    "len(md_files)\n",
    "# md_file = '/Users/swgj/Documents/Code/python_project/FinanceRAG/data/markdown/0b46f7a2d67b5b59ad67cafffa0e12a9f0837790/0b46f7a2d67b5b59ad67cafffa0e12a9f0837790.md'\n",
    "# text, doc_ids = load_texts(md_fir)"
   ]
  },
  {
   "cell_type": "code",
   "execution_count": 3,
   "metadata": {},
   "outputs": [
    {
     "data": {
      "text/plain": [
       "'/Users/swgj/Documents/Code/python_project/FinanceRAG/data/preprocessed_md/4170a3382f5e92d32890780d79cb39115a756f40.md'"
      ]
     },
     "execution_count": 3,
     "metadata": {},
     "output_type": "execute_result"
    }
   ],
   "source": [
    "md_files[15]"
   ]
  },
  {
   "cell_type": "code",
   "execution_count": 4,
   "metadata": {},
   "outputs": [],
   "source": [
    "nodes = docs_parse(md_files)"
   ]
  },
  {
   "cell_type": "code",
   "execution_count": 5,
   "metadata": {},
   "outputs": [
    {
     "data": {
      "text/plain": [
       "23317"
      ]
     },
     "execution_count": 5,
     "metadata": {},
     "output_type": "execute_result"
    }
   ],
   "source": [
    "len(nodes)"
   ]
  },
  {
   "cell_type": "code",
   "execution_count": 6,
   "metadata": {},
   "outputs": [],
   "source": [
    "# for node in nodes:\n",
    "#     if node.id_ == '0934726b-2796-4725-bdcd-6faa389ed2a7':\n",
    "#         print(dict(node))"
   ]
  },
  {
   "cell_type": "code",
   "execution_count": 7,
   "metadata": {},
   "outputs": [
    {
     "data": {
      "text/plain": [
       "{'id_': '4c7608c6-65cb-4752-b529-24b6cb38a771',\n",
       " 'embedding': None,\n",
       " 'metadata': {'filename': 'c48b454b4d171ba375fb88a6469b0a1d7f4625c2.md',\n",
       "  'extension': '.md',\n",
       "  'Header_1': '浙江金卡高科技股份有限公司',\n",
       "  'Header_2': '浙江金卡高科技股份有限公司',\n",
       "  'Header_6': 'Zhejiang Goldcard High-Tech Co.，Ltd.'},\n",
       " 'excluded_embed_metadata_keys': [],\n",
       " 'excluded_llm_metadata_keys': [],\n",
       " 'relationships': {<NodeRelationship.SOURCE: '1'>: RelatedNodeInfo(node_id='1c980d98-1e4d-4f08-a376-04e2ffeb0b06', node_type=<ObjectType.DOCUMENT: '4'>, metadata={'filename': 'c48b454b4d171ba375fb88a6469b0a1d7f4625c2.md', 'extension': '.md'}, hash='bdc040de93a42ae1549ca371fc7fa3266cb4fa4725dc44b1409647b820d29c09'),\n",
       "  <NodeRelationship.PREVIOUS: '2'>: RelatedNodeInfo(node_id='bb7a4852-0b09-4e8a-8cf0-0923505c32c5', node_type=<ObjectType.TEXT: '1'>, metadata={'filename': 'c48b454b4d171ba375fb88a6469b0a1d7f4625c2.md', 'extension': '.md', 'Header_1': '浙江金卡高科技股份有限公司', 'Header_2': '浙江金卡高科技股份有限公司'}, hash='897c1b0c509231a5d452a9b5740ab9253784844103454bc8357664a3d4a152a8'),\n",
       "  <NodeRelationship.NEXT: '3'>: RelatedNodeInfo(node_id='dd4fd68c-77d7-448a-a948-2d3e6213328b', node_type=<ObjectType.TEXT: '1'>, metadata={'filename': 'c48b454b4d171ba375fb88a6469b0a1d7f4625c2.md', 'extension': '.md', 'Header_1': '浙江金卡高科技股份有限公司', 'Header_2': '浙江金卡高科技股份有限公司', 'Header_5': '（乐清经济开发区经六路 151 号）'}, hash='bd9e159f97134b245bd7d66998f27d811a94f18fbbdb7012d9130a0124c9d815')},\n",
       " 'text': 'Zhejiang Goldcard High-Tech Co.，Ltd.',\n",
       " 'mimetype': 'text/plain',\n",
       " 'start_char_idx': 202,\n",
       " 'end_char_idx': 238,\n",
       " 'text_template': '{metadata_str}\\n\\n{content}',\n",
       " 'metadata_template': '{key}: {value}',\n",
       " 'metadata_seperator': '\\n'}"
      ]
     },
     "execution_count": 7,
     "metadata": {},
     "output_type": "execute_result"
    }
   ],
   "source": [
    "dict(nodes[10])"
   ]
  },
  {
   "cell_type": "code",
   "execution_count": 8,
   "metadata": {},
   "outputs": [
    {
     "name": "stderr",
     "output_type": "stream",
     "text": [
      "huggingface/tokenizers: The current process just got forked, after parallelism has already been used. Disabling parallelism to avoid deadlocks...\n",
      "To disable this warning, you can either:\n",
      "\t- Avoid using `tokenizers` before the fork if possible\n",
      "\t- Explicitly set the environment variable TOKENIZERS_PARALLELISM=(true | false)\n"
     ]
    }
   ],
   "source": [
    "index = load_nodes_to_milvus(nodes)"
   ]
  },
  {
   "cell_type": "code",
   "execution_count": 9,
   "metadata": {},
   "outputs": [],
   "source": [
    "from llama_index.llms.ollama import Ollama\n",
    "from llama_index.core import Settings\n",
    "Settings.llm = Ollama(model=\"qwen2.5\")\n",
    "query_engine = index.as_chat_engine()"
   ]
  },
  {
   "cell_type": "code",
   "execution_count": 10,
   "metadata": {},
   "outputs": [],
   "source": [
    "res = query_engine.query(\"中国铁路通信信号有限公司发行前每股净资产为多少？\")"
   ]
  },
  {
   "cell_type": "code",
   "execution_count": 11,
   "metadata": {},
   "outputs": [
    {
     "name": "stdout",
     "output_type": "stream",
     "text": [
      "中国铁路通信信号有限公司发行前每股净资产为3.29元。\n"
     ]
    }
   ],
   "source": [
    "print(res)"
   ]
  },
  {
   "cell_type": "code",
   "execution_count": 12,
   "metadata": {},
   "outputs": [
    {
     "name": "stdout",
     "output_type": "stream",
     "text": [
      "{'node': TextNode(id_='a9df9d69-4200-4e19-8f38-9818c413dca5', embedding=None, metadata={'filename': '4170a3382f5e92d32890780d79cb39115a756f40.md', 'extension': '.md', 'Header_1': '中国铁路通信信号股份有限公司', 'Header_2': '首次公开发行股票并在科创板上市', 'Header_3': '第二节 概 览', 'Header_5': '三、发行人报告期主要财务数据和财务指标'}, excluded_embed_metadata_keys=[], excluded_llm_metadata_keys=[], relationships={<NodeRelationship.SOURCE: '1'>: RelatedNodeInfo(node_id='b5edb28b-9afa-4653-a904-ced4fe9b6495', node_type=<ObjectType.DOCUMENT: '4'>, metadata={'filename': '4170a3382f5e92d32890780d79cb39115a756f40.md', 'extension': '.md'}, hash='14b8dbb4b11ec4c7c00e1076e5dbeaa77d164380c76a8a277f81b9b13533489a'), <NodeRelationship.PREVIOUS: '2'>: RelatedNodeInfo(node_id='9990f677-8217-4bda-89c8-6290be7ef10f', node_type=<ObjectType.TEXT: '1'>, metadata={'filename': '4170a3382f5e92d32890780d79cb39115a756f40.md', 'extension': '.md', 'Header_1': '中国铁路通信信号股份有限公司', 'Header_2': '首次公开发行股票并在科创板上市', 'Header_3': '第二节 概 览', 'Header_5': '二、本次发行概况'}, hash='644dd21437a189ccc1b41253b927337cb24f8a5fc2768e8cd4c7a6aaac7ad13f'), <NodeRelationship.NEXT: '3'>: RelatedNodeInfo(node_id='a547bea7-6fb1-405d-9984-c7dc71dcd0ef', node_type=<ObjectType.TEXT: '1'>, metadata={'filename': '4170a3382f5e92d32890780d79cb39115a756f40.md', 'extension': '.md', 'Header_1': '中国铁路通信信号股份有限公司', 'Header_2': '首次公开发行股票并在科创板上市', 'Header_3': '第二节 概 览', 'Header_5': '四、发行人主营业务经营情况'}, hash='e8a9c69b9ffe1c3c8dab747c4ccf39974c6ed7e2bce82ed366f48b2c238fbca7')}, text='三、发行人报告期主要财务数据和财务指标\\n\\n**2018 年** **12 月** **31 日** **2017 年** **12 月** **31 日** **2016 年** **12 月** **31 日**\\n项目\\n\\n**/2018 年度** **/2017 年度** **/2016 年度**\\n\\n资产总额（万元） 7,967,853.76 6,124,464.46 5,029,500.66\\n\\n归属于母公司所有者\\n2,890,839.67 2,401,905.09 2,165,663.79\\n权益（万元）\\n\\n资产负债率（母公司）\\n44.78 50.03 46.91\\n（%）\\n\\n营业收入（万元） 4,001,260.13 3,458,593.36 2,977,019.66\\n\\n净利润（万元） 371,679.53 343,719.43 319,848.19\\n\\n归属于母公司所有者\\n340,854.55 322,248.36 304,500.03\\n的净利润（万元）\\n\\n扣除非经常性损益后\\n归属于母公司所有者 329,519.07 309,181.56 283,468.31\\n的净利润\\n\\n基本每股收益（元） 0.38 0.37 0.35\\n\\n稀释每股收益（元） 0.38 0.37 0.35\\n\\n加权平均净资产收益\\n13.58 14.09 15.03\\n率（%）\\n\\n经营活动产生的现金\\n-158,678.99 -88,601.84 293,505.77\\n流量净额（万元）\\n\\n现金分红（万元） 131,847.29 87,898.19 21,974.55\\n\\n研发投入占营业收入\\n3.45 3.41 3.53\\n的比例（%）', mimetype='text/plain', start_char_idx=38972, end_char_idx=39679, text_template='{metadata_str}\\n\\n{content}', metadata_template='{key}: {value}', metadata_seperator='\\n'), 'score': 0.7587858438491821}\n"
     ]
    }
   ],
   "source": [
    "print(dict(res.source_nodes[0]))"
   ]
  },
  {
   "cell_type": "code",
   "execution_count": 22,
   "metadata": {},
   "outputs": [],
   "source": [
    "from llama_index.vector_stores.deeplake import DeepLakeVectorStore\n",
    "from llama_index.vector_stores.milvus import MilvusVectorStore\n"
   ]
  },
  {
   "cell_type": "code",
   "execution_count": 15,
   "metadata": {},
   "outputs": [],
   "source": [
    "index.storage_context.persist(persist_dir='data/milvus')"
   ]
  },
  {
   "cell_type": "code",
   "execution_count": 20,
   "metadata": {},
   "outputs": [
    {
     "name": "stderr",
     "output_type": "stream",
     "text": []
    },
    {
     "data": {
      "text/plain": [
       "DeepLakeVectorStore(stores_text=True, is_embedding_query=True, flat_metadata=True, ingestion_batch_size=1024, num_workers=4, token=None, read_only=False, dataset_path='data/milvus_deep')"
      ]
     },
     "execution_count": 20,
     "metadata": {},
     "output_type": "execute_result"
    }
   ],
   "source": [
    "DeepLakeVectorStore('data/milvus_deep')"
   ]
  },
  {
   "cell_type": "code",
   "execution_count": 21,
   "metadata": {},
   "outputs": [
    {
     "name": "stderr",
     "output_type": "stream",
     "text": [
      "WARNING:root:Removing unpickleable private attribute _chunking_tokenizer_fn\n",
      "WARNING:root:Removing unpickleable private attribute _split_fns\n",
      "WARNING:root:Removing unpickleable private attribute _sub_sentence_split_fns\n"
     ]
    }
   ],
   "source": [
    "# pkl save\n",
    "import pickle\n",
    "with open('data/milvus.pkl', 'wb') as f:\n",
    "    pickle.dump(index, f)"
   ]
  },
  {
   "cell_type": "code",
   "execution_count": 1,
   "metadata": {},
   "outputs": [],
   "source": [
    "from pymilvus import MilvusClient\n",
    "from llama_index.core import VectorStoreIndex\n",
    "from llama_index.vector_stores.milvus import MilvusVectorStore\n",
    "from llama_index.core import StorageContext\n",
    "\n",
    "# initialize client\n",
    "client = MilvusClient(uri='data/milvus_md.db')\n",
    "# db = chromadb.PersistentClient(path=\"./chroma_db\")\n",
    "\n"
   ]
  },
  {
   "cell_type": "code",
   "execution_count": 2,
   "metadata": {},
   "outputs": [],
   "source": [
    "# get collection\n",
    "# chroma_collection = db.get_or_create_collection(\"quickstart\")\n",
    "# collection = client.get(collection_name='llamacollection')\n",
    "\n",
    "from llama_index.llms.ollama import Ollama\n",
    "from llama_index.core import Settings\n",
    "from src.rag.data_to_milvus import embedding_model\n",
    "from src.config import config\n",
    "\n",
    "Settings.llm = Ollama(model=\"qwen2.5\")\n",
    "Settings.embed_model = embedding_model(config.get_path('models','embedding'))\n",
    "# query_engine = index.as_chat_engine()\n",
    "\n",
    "# assign chroma as the vector_store to the context\n",
    "vector_store = MilvusVectorStore(uri='data/milvus_md.db')\n",
    "# vector_store = MilvusVectorStore(uri='data/milvus_md.db', collection_name='llamacollection')\n",
    "# vector_store = ChromaVectorStore(chroma_collection=chroma_collection)\n",
    "storage_context = StorageContext.from_defaults(vector_store=vector_store)\n",
    "\n",
    "# load your index from stored vectors\n",
    "index_new = VectorStoreIndex.from_vector_store(\n",
    "    vector_store, storage_context=storage_context\n",
    ")"
   ]
  },
  {
   "cell_type": "code",
   "execution_count": 15,
   "metadata": {},
   "outputs": [
    {
     "name": "stderr",
     "output_type": "stream",
     "text": [
      "WARNING:root:Removing unpickleable private attribute _chunking_tokenizer_fn\n",
      "WARNING:root:Removing unpickleable private attribute _split_fns\n",
      "WARNING:root:Removing unpickleable private attribute _sub_sentence_split_fns\n"
     ]
    }
   ],
   "source": [
    "# import pickle\n",
    "# with open('data/milvus_new.pkl', 'wb') as f:\n",
    "#     pickle.dump(index_new, f)\n"
   ]
  },
  {
   "cell_type": "code",
   "execution_count": 3,
   "metadata": {},
   "outputs": [
    {
     "name": "stderr",
     "output_type": "stream",
     "text": [
      "huggingface/tokenizers: The current process just got forked, after parallelism has already been used. Disabling parallelism to avoid deadlocks...\n",
      "To disable this warning, you can either:\n",
      "\t- Avoid using `tokenizers` before the fork if possible\n",
      "\t- Explicitly set the environment variable TOKENIZERS_PARALLELISM=(true | false)\n"
     ]
    },
    {
     "name": "stdout",
     "output_type": "stream",
     "text": [
      "中国铁路通信信号有限公司发行前每股净资产为3.29元。\n"
     ]
    }
   ],
   "source": [
    "# create a query engine\n",
    "query_engine = index_new.as_query_engine()\n",
    "# response = query_engine.query(\"介绍一下武汉力源信息技术股份有限公司?\")\n",
    "response = query_engine.query(\"中国铁路通信信号有限公司发行前每股净资产为多少？\")\n",
    "print(response)"
   ]
  },
  {
   "cell_type": "code",
   "execution_count": 4,
   "metadata": {},
   "outputs": [
    {
     "data": {
      "text/plain": [
       "'> Source (Doc id: a9df9d69-4200-4e19-8f38-9818c413dca5): 三、发行人报告期主要财务数据和财务指标\\n\\n**2018 年** **12 月** **31 日** **2017 年** **12 月** **31 日** **2016 年** **12 月*...\\n\\n> Source (Doc id: cf24631d-cf4e-422d-99ef-76b174699e61): 十一、发行人主要财务指标\\n\\n（一）基本财务指标\\n\\n**2018 年** **2017 年** **2016 年**\\n项目\\n\\n**12 月** **31 日** **12 月** **31 日**...'"
      ]
     },
     "execution_count": 4,
     "metadata": {},
     "output_type": "execute_result"
    }
   ],
   "source": [
    "response.get_formatted_sources()"
   ]
  },
  {
   "cell_type": "code",
   "execution_count": 5,
   "metadata": {},
   "outputs": [
    {
     "name": "stdout",
     "output_type": "stream",
     "text": [
      "中国铁路通信信号股份有限公司主要从事轨道交通控制系统的设计集成、设备制造及系统交付。公司致力于提供CTCS列车运行控制系统、城市轨道交通CBTC系统、货运铁路CIPS综合自动化系统等的研发与应用，并且在国内市场积累了丰富的建设经验，持续拓展海外市场。\n",
      "\n",
      "截至信息提供的日期，公司在技术创新方面取得了显著成就，拥有6个省部级重点实验室、工程技术研究中心，1个国家企业技术中心，1个国家工业设计中心，15个省级企业技术中心，以及6个院士专家工作站和3个博士后科研流动工作站。这些平台和技术资源为公司的研发工作提供了坚实的支持。\n",
      "\n",
      "凭借强大的研发实力和技术积累，中国铁路通信信号股份有限公司在铁路、城市轨道交通等领域取得了多项重要科技成果，并将继续加大投入，利用如北斗定位、人工智能、下一代移动通信、大数据等前沿科技，进一步提升其在列车运行控制核心技术、轨道交通智能运维、智慧城市及行业通信信息领域的竞争力。\n",
      "\n",
      "主要竞争对手包括铁科院和和利时。这些信息展示了公司在市场和技术方面的优势及其面临的竞争环境。\n"
     ]
    }
   ],
   "source": [
    "res = query_engine.query(\"中国铁路通信信号有限公司的介绍\")\n",
    "print(res)"
   ]
  },
  {
   "cell_type": "code",
   "execution_count": 8,
   "metadata": {},
   "outputs": [
    {
     "data": {
      "text/plain": [
       "2"
      ]
     },
     "execution_count": 8,
     "metadata": {},
     "output_type": "execute_result"
    }
   ],
   "source": [
    "len(res.source_nodes)"
   ]
  },
  {
   "cell_type": "code",
   "execution_count": 1,
   "metadata": {},
   "outputs": [],
   "source": [
    "from src.sql.sql import get_query_engine\n",
    "\n",
    "query_engine = get_query_engine()"
   ]
  },
  {
   "cell_type": "code",
   "execution_count": 2,
   "metadata": {},
   "outputs": [
    {
     "name": "stdout",
     "output_type": "stream",
     "text": [
      "根据查询结果，在香港股票的日行情中，股票代码为09901的股票拥有最高的价格，其最高价为1588元。\n"
     ]
    }
   ],
   "source": [
    "query = \"港股票日行情中哪一个股票的最高价最高？\"\n",
    "res = query_engine.query(query)\n",
    "print(res)"
   ]
  },
  {
   "cell_type": "code",
   "execution_count": 5,
   "metadata": {},
   "outputs": [
    {
     "name": "stdout",
     "output_type": "stream",
     "text": [
      "SELECT \"股票代码\", \"最高价(元)\" \n",
      "FROM \"港股票日行情表\" \n",
      "ORDER BY \"最高价(元)\" DESC \n",
      "LIMIT 1;\n"
     ]
    }
   ],
   "source": [
    "query = \"港股票日行情中哪一个股票的最高价最高？\"\n",
    "res = query_engine.query(query)\n",
    "print(res)"
   ]
  },
  {
   "cell_type": "code",
   "execution_count": 3,
   "metadata": {},
   "outputs": [],
   "source": [
    "# for key, value in (query_engine.get_prompts()).items():\n",
    "#     print(\"=\"*10)\n",
    "#     print(key+'\\n')\n",
    "#     print(value)"
   ]
  },
  {
   "cell_type": "code",
   "execution_count": 4,
   "metadata": {},
   "outputs": [
    {
     "name": "stdout",
     "output_type": "stream",
     "text": [
      "\n",
      "\n",
      "response_synthesis_prompt\n",
      "metadata {'prompt_type': <PromptType.SQL_RESPONSE_SYNTHESIS_V2: 'sql_response_synthesis_v2'>}\n",
      "template_vars ['query_str', 'sql_query', 'context_str']\n",
      "kwargs {}\n",
      "output_parser None\n",
      "template_var_mappings None\n",
      "function_mappings None\n",
      "template Given an input question, synthesize a response from the query results.\n",
      "Query: {query_str}\n",
      "SQL: {sql_query}\n",
      "SQL Response: {context_str}\n",
      "Response: \n",
      "\n",
      "\n",
      "sql_retriever:text_to_sql_prompt\n",
      "metadata {'prompt_type': <PromptType.TEXT_TO_SQL: 'text_to_sql'>}\n",
      "template_vars ['dialect', 'schema', 'query_str']\n",
      "kwargs {}\n",
      "output_parser None\n",
      "template_var_mappings None\n",
      "function_mappings None\n",
      "template Given an input question, first create a syntactically correct {dialect} query to run, then look at the results of the query and return the answer. You can order the results by a relevant column to return the most interesting examples in the database.\n",
      "\n",
      "Pay attention to use only the column names that you can see in the schema description. Be careful to not query for columns that do not exist. Pay attention to which column is in which table. Also, qualify column names with the table name when needed. \n",
      "\n",
      "IMPORTANT NOTE: make sure to enclose each column name in double quotes (\"\") pay attention to syntax and do not allow syntax errors.\n",
      "\n",
      "You are required to use the following format, each taking one line:\n",
      "\n",
      "Question: Question here\n",
      "SQLQuery: SQL Query to run\n",
      "SQLResult: Result of the SQLQuery\n",
      "Answer: Final answer here\n",
      "\n",
      "Only use tables listed below.\n",
      "{schema}\n",
      "\n",
      "\n",
      "Question: {query_str}\n",
      "SQLQuery: \n"
     ]
    }
   ],
   "source": [
    "for key, value in (query_engine.get_prompts()).items():\n",
    "    print('\\n')\n",
    "    print(key)\n",
    "    for k, v in dict(value).items():\n",
    "        print(k, v)"
   ]
  },
  {
   "cell_type": "code",
   "execution_count": 3,
   "metadata": {},
   "outputs": [],
   "source": [
    "# import json\n",
    "# from llama_index.core.prompts.default_prompts import DEFAULT_TEXT_TO_SQL_PROMPT\n",
    "# for key, value in dict(DEFAULT_TEXT_TO_SQL_PROMPT).items():\n",
    "#     print(key, value)"
   ]
  },
  {
   "cell_type": "code",
   "execution_count": 1,
   "metadata": {},
   "outputs": [],
   "source": [
    "from src.cls_ner.cls_ner import get_query_engine\n",
    "\n",
    "query_engine = get_query_engine()"
   ]
  },
  {
   "cell_type": "code",
   "execution_count": 2,
   "metadata": {},
   "outputs": [
    {
     "name": "stdout",
     "output_type": "stream",
     "text": [
      "QuestionType: SQL查询\n"
     ]
    }
   ],
   "source": [
    "res = query_engine.query(\"港股票日行情中哪一个股票的最高价最高？\")\n",
    "print(res)"
   ]
  },
  {
   "cell_type": "code",
   "execution_count": 3,
   "metadata": {},
   "outputs": [
    {
     "name": "stdout",
     "output_type": "stream",
     "text": [
      "QuestionType: 文本理解\n",
      "Company: 中国铁路通信信号有限公司\n",
      "Keywords: 发行前每股净资产为多少\n"
     ]
    }
   ],
   "source": [
    "res = query_engine.query(\"中国铁路通信信号有限公司发行前每股净资产为多少？\")\n",
    "print(res)"
   ]
  },
  {
   "cell_type": "code",
   "execution_count": 4,
   "metadata": {},
   "outputs": [
    {
     "name": "stdout",
     "output_type": "stream",
     "text": [
      "QuestionType: 混合查询\n",
      "Company: 中国铁路通信信号有限公司\n",
      "Keywords: 发行前每股净资产, 发行后股价最高价格及日期\n",
      "TextQueryForSQL: 在“A股票日行情表”中找到发行前的记录，计算每股净资产；在“A股票日行情表”中找出发行后的所有交易日，并确定哪一天的收盘价最高。\n"
     ]
    }
   ],
   "source": [
    "res = query_engine.query(\"中国铁路通信信号有限公司发行前每股净资产为多少？发行后哪一天它的股价最高？\")\n",
    "print(res)"
   ]
  },
  {
   "cell_type": "markdown",
   "metadata": {},
   "source": [
    "# Prompt"
   ]
  },
  {
   "cell_type": "code",
   "execution_count": 31,
   "metadata": {},
   "outputs": [],
   "source": [
    "from llama_index.core.prompts.default_prompts import DEFAULT_TEXT_TO_SQL_PROMPT\n",
    "from llama_index.core import PromptTemplate\n",
    "from llama_index.core.prompts.prompt_type import PromptType\n"
   ]
  },
  {
   "cell_type": "code",
   "execution_count": 28,
   "metadata": {},
   "outputs": [
    {
     "name": "stdout",
     "output_type": "stream",
     "text": [
      "metadata {'prompt_type': <PromptType.TEXT_TO_SQL: 'text_to_sql'>}\n",
      "template_vars ['dialect', 'schema', 'query_str']\n",
      "kwargs {}\n",
      "output_parser None\n",
      "template_var_mappings None\n",
      "function_mappings None\n",
      "template Given an input question, first create a syntactically correct {dialect} query to run, then look at the results of the query and return the answer. You can order the results by a relevant column to return the most interesting examples in the database.\n",
      "\n",
      "Never query for all the columns from a specific table, only ask for a few relevant columns given the question.\n",
      "\n",
      "Pay attention to use only the column names that you can see in the schema description. Be careful to not query for columns that do not exist. Pay attention to which column is in which table. Also, qualify column names with the table name when needed. You are required to use the following format, each taking one line:\n",
      "\n",
      "Question: Question here\n",
      "SQLQuery: SQL Query to run\n",
      "SQLResult: Result of the SQLQuery\n",
      "Answer: Final answer here\n",
      "\n",
      "Only use tables listed below.\n",
      "{schema}\n",
      "\n",
      "Question: {query_str}\n",
      "SQLQuery: \n"
     ]
    }
   ],
   "source": [
    "for key, value in dict(DEFAULT_TEXT_TO_SQL_PROMPT).items():\n",
    "    print(key, value)"
   ]
  },
  {
   "cell_type": "code",
   "execution_count": 24,
   "metadata": {},
   "outputs": [],
   "source": [
    "from src.prompt.text_to_sql_template import get_prompt\n",
    "t2sql_template = get_prompt()"
   ]
  },
  {
   "cell_type": "code",
   "execution_count": 32,
   "metadata": {},
   "outputs": [],
   "source": [
    "text_to_sql_template = PromptTemplate(\n",
    "    t2sql_template,\n",
    "    prompt_type=PromptType.TEXT_TO_SQL,\n",
    "    )"
   ]
  },
  {
   "cell_type": "code",
   "execution_count": 33,
   "metadata": {},
   "outputs": [
    {
     "name": "stdout",
     "output_type": "stream",
     "text": [
      "metadata {'prompt_type': <PromptType.TEXT_TO_SQL: 'text_to_sql'>}\n",
      "template_vars ['dialect', 'schema', 'query_str']\n",
      "kwargs {}\n",
      "output_parser None\n",
      "template_var_mappings None\n",
      "function_mappings None\n",
      "template Given an input question, first create a syntactically correct {dialect} query to run, then look at the results of the query and return the answer. You can order the results by a relevant column to return the most interesting examples in the database.\n",
      "\n",
      "Pay attention to use only the column names that you can see in the schema description. Be careful to not query for columns that do not exist. Pay attention to which column is in which table. Also, qualify column names with the table name when needed. \n",
      "\n",
      "IMPORTANT NOTE: you can use specialized pgvector syntax (`<->`) to do nearest neighbors/semantic search to a given vector from an embeddings column in the table. The embeddings value for a given row typically represents the semantic meaning of that row. The vector represents an embedding representation of the question, given below. Do NOT fill in the vector values directly, but rather specify a `[query_vector]` placeholder. For instance, some select statement examples below (the name of the embeddings column is `embedding`):\n",
      "SELECT * FROM items ORDER BY embedding <-> '[query_vector]' LIMIT 5;\n",
      "SELECT * FROM items WHERE id != 1 ORDER BY embedding <-> (SELECT embedding FROM items WHERE id = 1) LIMIT 5;\n",
      "SELECT * FROM items WHERE embedding <-> '[query_vector]' < 5;\n",
      "\n",
      "You are required to use the following format, each taking one line:\n",
      "\n",
      "Question: Question here\n",
      "SQLQuery: SQL Query to run\n",
      "SQLResult: Result of the SQLQuery\n",
      "Answer: Final answer here\n",
      "\n",
      "Only use tables listed below.\n",
      "{schema}\n",
      "\n",
      "\n",
      "Question: {query_str}\n",
      "SQLQuery: \n"
     ]
    }
   ],
   "source": [
    "for key, value in dict(text_to_sql_template).items():\n",
    "    print(key, value)"
   ]
  },
  {
   "cell_type": "markdown",
   "metadata": {},
   "source": [
    "# APP test"
   ]
  },
  {
   "cell_type": "code",
   "execution_count": 5,
   "metadata": {},
   "outputs": [],
   "source": [
    "import requests\n",
    "\n",
    "base_url = \"http://localhost:8888/api\""
   ]
  },
  {
   "cell_type": "code",
   "execution_count": 4,
   "metadata": {},
   "outputs": [
    {
     "name": "stdout",
     "output_type": "stream",
     "text": [
      "{'response': {'response': '中国铁路通信信号有限公司在发行前的每股净资产分别为：2016年12月31日为2.46元，2017年12月31日为2.73元，以及2018年12月31日为3.29元。', 'source_nodes': [{'node': {'id_': 'a9df9d69-4200-4e19-8f38-9818c413dca5', 'embedding': None, 'extra_info': {'filename': '4170a3382f5e92d32890780d79cb39115a756f40.md', 'extension': '.md', 'Header_1': '中国铁路通信信号股份有限公司', 'Header_2': '首次公开发行股票并在科创板上市', 'Header_3': '第二节 概 览', 'Header_5': '三、发行人报告期主要财务数据和财务指标'}, 'excluded_embed_metadata_keys': [], 'excluded_llm_metadata_keys': [], 'relationships': {'1': {'node_id': 'b5edb28b-9afa-4653-a904-ced4fe9b6495', 'node_type': '4', 'metadata': {'filename': '4170a3382f5e92d32890780d79cb39115a756f40.md', 'extension': '.md'}, 'hash': '14b8dbb4b11ec4c7c00e1076e5dbeaa77d164380c76a8a277f81b9b13533489a', 'class_name': 'RelatedNodeInfo'}, '2': {'node_id': '9990f677-8217-4bda-89c8-6290be7ef10f', 'node_type': '1', 'metadata': {'filename': '4170a3382f5e92d32890780d79cb39115a756f40.md', 'extension': '.md', 'Header_1': '中国铁路通信信号股份有限公司', 'Header_2': '首次公开发行股票并在科创板上市', 'Header_3': '第二节 概 览', 'Header_5': '二、本次发行概况'}, 'hash': '644dd21437a189ccc1b41253b927337cb24f8a5fc2768e8cd4c7a6aaac7ad13f', 'class_name': 'RelatedNodeInfo'}, '3': {'node_id': 'a547bea7-6fb1-405d-9984-c7dc71dcd0ef', 'node_type': '1', 'metadata': {'filename': '4170a3382f5e92d32890780d79cb39115a756f40.md', 'extension': '.md', 'Header_1': '中国铁路通信信号股份有限公司', 'Header_2': '首次公开发行股票并在科创板上市', 'Header_3': '第二节 概 览', 'Header_5': '四、发行人主营业务经营情况'}, 'hash': 'e8a9c69b9ffe1c3c8dab747c4ccf39974c6ed7e2bce82ed366f48b2c238fbca7', 'class_name': 'RelatedNodeInfo'}}, 'text': '三、发行人报告期主要财务数据和财务指标\\n\\n**2018 年** **12 月** **31 日** **2017 年** **12 月** **31 日** **2016 年** **12 月** **31 日**\\n项目\\n\\n**/2018 年度** **/2017 年度** **/2016 年度**\\n\\n资产总额（万元） 7,967,853.76 6,124,464.46 5,029,500.66\\n\\n归属于母公司所有者\\n2,890,839.67 2,401,905.09 2,165,663.79\\n权益（万元）\\n\\n资产负债率（母公司）\\n44.78 50.03 46.91\\n（%）\\n\\n营业收入（万元） 4,001,260.13 3,458,593.36 2,977,019.66\\n\\n净利润（万元） 371,679.53 343,719.43 319,848.19\\n\\n归属于母公司所有者\\n340,854.55 322,248.36 304,500.03\\n的净利润（万元）\\n\\n扣除非经常性损益后\\n归属于母公司所有者 329,519.07 309,181.56 283,468.31\\n的净利润\\n\\n基本每股收益（元） 0.38 0.37 0.35\\n\\n稀释每股收益（元） 0.38 0.37 0.35\\n\\n加权平均净资产收益\\n13.58 14.09 15.03\\n率（%）\\n\\n经营活动产生的现金\\n-158,678.99 -88,601.84 293,505.77\\n流量净额（万元）\\n\\n现金分红（万元） 131,847.29 87,898.19 21,974.55\\n\\n研发投入占营业收入\\n3.45 3.41 3.53\\n的比例（%）', 'mimetype': 'text/plain', 'start_char_idx': 38972, 'end_char_idx': 39679, 'text_template': '{metadata_str}\\n\\n{content}', 'metadata_template': '{key}: {value}', 'metadata_seperator': '\\n', 'class_name': 'TextNode'}, 'score': 0.7587858438491821, 'class_name': 'NodeWithScore'}, {'node': {'id_': 'cf24631d-cf4e-422d-99ef-76b174699e61', 'embedding': None, 'extra_info': {'filename': '4170a3382f5e92d32890780d79cb39115a756f40.md', 'extension': '.md', 'Header_1': '中国铁路通信信号股份有限公司', 'Header_2': '首次公开发行股票并在科创板上市', 'Header_3': '第八节 财务会计信息与管理层分析', 'Header_5': '十一、发行人主要财务指标'}, 'excluded_embed_metadata_keys': [], 'excluded_llm_metadata_keys': [], 'relationships': {'1': {'node_id': 'b5edb28b-9afa-4653-a904-ced4fe9b6495', 'node_type': '4', 'metadata': {'filename': '4170a3382f5e92d32890780d79cb39115a756f40.md', 'extension': '.md'}, 'hash': '14b8dbb4b11ec4c7c00e1076e5dbeaa77d164380c76a8a277f81b9b13533489a', 'class_name': 'RelatedNodeInfo'}, '2': {'node_id': '121b34fb-db2a-4766-a5d3-25ca1cd8c2f8', 'node_type': '1', 'metadata': {'filename': '4170a3382f5e92d32890780d79cb39115a756f40.md', 'extension': '.md', 'Header_1': '中国铁路通信信号股份有限公司', 'Header_2': '首次公开发行股票并在科创板上市', 'Header_3': '第八节 财务会计信息与管理层分析', 'Header_5': '十、非经常性损益对公司盈利的影响'}, 'hash': '7e5de35bf89bfbeac0963318fa8dcc180eb38fa0e722f25bfede6c19c09e97dd', 'class_name': 'RelatedNodeInfo'}, '3': {'node_id': '99a1194a-f394-496d-90d1-6438f9544e0d', 'node_type': '1', 'metadata': {'filename': '4170a3382f5e92d32890780d79cb39115a756f40.md', 'extension': '.md', 'Header_1': '中国铁路通信信号股份有限公司', 'Header_2': '首次公开发行股票并在科创板上市', 'Header_3': '第八节 财务会计信息与管理层分析', 'Header_5': '十二、盈利预测披露情况'}, 'hash': '4e32dcc7aa0a1b4dff5e50030476b49a684f7fb99c0b406866c47cfc8b688eda', 'class_name': 'RelatedNodeInfo'}}, 'text': '十一、发行人主要财务指标\\n\\n（一）基本财务指标\\n\\n**2018 年** **2017 年** **2016 年**\\n项目\\n\\n**12 月** **31 日** **12 月** **31 日** **12 月** **31 日**\\n\\n流动比率（倍） 1.37 1.42 1.57\\n\\n速动比率（倍） 0.64 0.81 1.09\\n\\n资产负债率 62.01% 58.81% 54.89%\\n\\n项目 **2018 年度** **2017 年度** **2016 年度**\\n\\n息税折旧摊销前利润（万元） 519,046.96 477,469.88 436,276.40\\n\\n归属于母公司股东的净利润（万元） 340,854.55 322,248.36 304,500.03\\n\\n归属于母公司股东扣除非经常性损\\n329,519.07 309,181.56 283,468.31\\n益后的净利润（万元）\\n\\n应收账款周转率（次） 3.26 3.40 3.56\\n\\n存货周转率（次） 1.10 1.55 2.07\\n\\n研发投入占比营业收入的比例 3.45% 3.41% 3.53%\\n\\n每股经营活动的现金流量（元） -0.18 -0.10 0.33\\n\\n每股净现金流量（元） -0.06 -0.32 0.32\\n\\n归属于母公司股东的每股净资产\\n3.29 2.73 2.46\\n（元）\\n\\n上述财务指标以本公司合并财务报表的数据为基础计算，计算公式如下：\\n\\n1、流动比率＝流动资产/流动负债\\n\\n2、速动比率＝（流动资产-存货-合同资产）/流动负债\\n\\n3、资产负债率＝总负债/总资产×100%\\n\\n4、息税折旧摊销前利润＝利润总额＋利息支出+折旧和摊销\\n\\n5、应收账款周转率＝营业收入/应收账款年度平均净额\\n\\n515\\n\\n|项目|2018 年度|2017 年度|2016 年度|\\n|---|---|---|---|\\n|非经常性损益净影响额|11,335.48|13,066.80|21,031.73|\\n|归属于母公司股东扣除非经常性损益后的净 利润|329,519.07|309,181.56|283,468.31|\\n\\n|项目|2018 年 12 月31 日|2017 年 12 月31 日|2016 年 12 月31 日|\\n|---|---|---|---|\\n|流动比率（倍）|1.37|1.42|1.57|\\n|速动比率（倍）|0.64|0.81|1.09|\\n|资产负债率|62.01%|58.81%|54.89%|\\n|项目|2018 年度|2017 年度|2016 年度|\\n|息税折旧摊销前利润（万元）|519,046.96|477,469.88|436,276.40|\\n|归属于母公司股东的净利润（万元）|340,854.55|322,248.36|304,500.03|\\n|归属于母公司股东扣除非经常性损 益后的净利润（万元）|329,519.07|309,181.56|283,468.31|\\n|应收账款周转率（次）|3.26|3.40|3.56|\\n|存货周转率（次）|1.10|1.55|2.07|\\n|研发投入占比营业收入的比例|3.45%|3.41%|3.53%|\\n|每股经营活动的现金流量（元）|-0.18|-0.10|0.33|\\n|每股净现金流量（元）|-0.06|-0.32|0.32|\\n|归属于母公司股东的每股净资产 （元）|3.29|2.73|2.46|\\n\\n\\n-----\\n\\n中国铁路通信信号股份有限公司 招股意向书\\n\\n6、存货周转率＝营业成本/（存货年度平均净额+合同资产年度平均净额）\\n\\n7、研发投入占比营业收入的比例＝（费用化的研发费用+资本化的开发支出）\\n\\n/营业收入\\n\\n8、每股经营活动产生的现金流量＝经营活动产生的现金流量净额/期末股本\\n\\n总额\\n\\n9、每股净现金流量＝现金及现金等价物净增加额/期末股本总额\\n\\n10、归属于母公司股东的每股净资产＝归属于母公司股东的净资产/期末股\\n\\n本总额\\n\\n（二）净资产收益率和每股收益\\n\\n根据中国证监会《公开发行证券公司信息披露编报规则第 9 号——净资产收\\n\\n益率和每股收益的计算及披露（2010 年修订）》，报告期内本公司的净资产收益\\n\\n率和每股收益如下：\\n\\n加权平均净资 每股收益（元/股）\\n报告期利润 报告期\\n\\n产收益率（%） 基本每股收益 稀释每股收益\\n\\n2018 年度 13.58 0.38 0.38\\n\\n归属于母公司股东的\\n\\n2017 年度 14.09 0.37 0.37\\n\\n净利润\\n\\n2016 年度 15.03 0.35 0.35\\n\\n2018 年度 13.13 0.37 0.37\\n\\n扣除非经常性损益后\\n归属于母公司股东的 2017 年度 13.52 0.35 0.35\\n\\n净利润\\n\\n2016 年度 13.99 0.32 0.32\\n\\n基本每股收益按照归属于本公司母公司股东的当期净利润，除以发行在外普\\n\\n通股的加权平均数计算。\\n\\n稀释每股收益的分子以归属于本公司母公司股东的当期净利润，调整下述因\\n\\n素后确定：（1）当期已确认为费用的稀释性潜在普通股的利息；（2）稀释性潜在\\n\\n普通股转换时将产生的收益或费用；以及（3）上述调整相关的所得税影响。\\n\\n稀释每股收益的分母等于下列两项之和：（1）基本每股收益中母公司已发行\\n\\n普通股的加权平均数；及（2）假定稀释性潜在普通股转换为普通股而增加的普\\n\\n通股的加权平均数。\\n\\n516\\n\\n|报告期利润|报告期|加权平均净资 产收益率（%）|每股收益（元/股）|Col5|\\n|---|---|---|---|---|\\n||||基本每股收益|稀释每股收益|\\n|归属于母公司股东的 净利润|2018 年度|13.58|0.38|0.38|\\n||2017 年度|14.09|0.37|0.37|\\n||2016 年度|15.03|0.35|0.35|\\n|扣除非经常性损益后 归属于母公司股东的 净利润|2018 年度|13.13|0.37|0.37|\\n||2017 年度|13.52|0.35|0.35|\\n||2016 年度|13.99|0.32|0.32|\\n\\n\\n-----\\n\\n中国铁路通信信号股份有限公司 招股意向书\\n\\n在计算稀释性潜在普通股转换为已发行普通股而增加的普通股股数的加权\\n\\n平均数时，以前期间发行的稀释性潜在普通股，假设在当期期初转换；当期发行\\n\\n的稀释性潜在普通股，假设在发行日转换。', 'mimetype': 'text/plain', 'start_char_idx': 734243, 'end_char_idx': 736878, 'text_template': '{metadata_str}\\n\\n{content}', 'metadata_template': '{key}: {value}', 'metadata_seperator': '\\n', 'class_name': 'TextNode'}, 'score': 0.7446815967559814, 'class_name': 'NodeWithScore'}], 'metadata': None}, 'status': 200, 'time': '2024-11-20 21:27:01'}\n"
     ]
    }
   ],
   "source": [
    "# test rag\n",
    "rag_response = requests.post(base_url + \"/rag\", json={\"query\": \"中国铁路通信信号有限公司发行前每股净资产为多少？\"})\n",
    "print(rag_response.json())"
   ]
  },
  {
   "cell_type": "code",
   "execution_count": 5,
   "metadata": {},
   "outputs": [
    {
     "name": "stdout",
     "output_type": "stream",
     "text": [
      "{'response': {'response': '根据查询结果，在香港股票的日行情中，股票代码为09901的股票拥有最高的当日最高价，为1588元。', 'source_nodes': [{'node': {'id_': '341a800d-5b71-48d4-8f04-a9cfccad4dfe', 'embedding': None, 'extra_info': {'sql_query': 'SELECT \"股票代码\", \"最高价(元)\" FROM \"港股票日行情表\" ORDER BY \"最高价(元)\" DESC LIMIT 1;', 'result': [['09901', 1588.0]], 'col_keys': ['股票代码', '最高价(元)']}, 'excluded_embed_metadata_keys': ['sql_query', 'result', 'col_keys'], 'excluded_llm_metadata_keys': ['sql_query', 'result', 'col_keys'], 'relationships': {}, 'text': \"[('09901', 1588.0)]\", 'mimetype': 'text/plain', 'start_char_idx': None, 'end_char_idx': None, 'text_template': '{metadata_str}\\n\\n{content}', 'metadata_template': '{key}: {value}', 'metadata_seperator': '\\n', 'class_name': 'TextNode'}, 'score': None, 'class_name': 'NodeWithScore'}], 'metadata': {'341a800d-5b71-48d4-8f04-a9cfccad4dfe': {'sql_query': 'SELECT \"股票代码\", \"最高价(元)\" FROM \"港股票日行情表\" ORDER BY \"最高价(元)\" DESC LIMIT 1;', 'result': [['09901', 1588.0]], 'col_keys': ['股票代码', '最高价(元)']}, 'sql_query': 'SELECT \"股票代码\", \"最高价(元)\" FROM \"港股票日行情表\" ORDER BY \"最高价(元)\" DESC LIMIT 1;', 'result': [['09901', 1588.0]], 'col_keys': ['股票代码', '最高价(元)']}}, 'status': 200, 'time': '2024-11-20 21:27:17'}\n"
     ]
    }
   ],
   "source": [
    "# test sql\n",
    "sql_response = requests.post(base_url + \"/sql\", json={\"query\": \"港股票日行情中哪一个股票的最高价最高？\"})\n",
    "print(sql_response.json())"
   ]
  },
  {
   "cell_type": "code",
   "execution_count": 6,
   "metadata": {},
   "outputs": [
    {
     "name": "stdout",
     "output_type": "stream",
     "text": [
      "{'response': {'text': 'QuestionType: 文本理解\\nCompany: 中国铁路通信信号有限公司\\nKeywords: 发行前每股净资产为多少', 'additional_kwargs': {'tool_calls': []}, 'raw': {'model': 'qwen2.5', 'created_at': '2024-11-20T18:15:03.73207Z', 'message': {'role': 'assistant', 'content': 'QuestionType: 文本理解\\nCompany: 中国铁路通信信号有限公司\\nKeywords: 发行前每股净资产为多少'}, 'done_reason': 'stop', 'done': True, 'total_duration': 10672784125, 'load_duration': 2834529792, 'prompt_eval_count': 1398, 'prompt_eval_duration': 6618323000, 'eval_count': 26, 'eval_duration': 1190634000, 'usage': {'prompt_tokens': 1398, 'completion_tokens': 26, 'total_tokens': 1424}}, 'logprobs': None, 'delta': None}, 'status': 200, 'time': '2024-11-21 02:15:03'}\n"
     ]
    }
   ],
   "source": [
    "# test ner\n",
    "ner_response = requests.post(base_url + \"/ner\", json={\"query\": \"中国铁路通信信号有限公司发行前每股净资产为多少？\"})\n",
    "print(ner_response.json())"
   ]
  },
  {
   "cell_type": "code",
   "execution_count": null,
   "metadata": {},
   "outputs": [],
   "source": []
  }
 ],
 "metadata": {
  "kernelspec": {
   "display_name": "finrag",
   "language": "python",
   "name": "python3"
  },
  "language_info": {
   "codemirror_mode": {
    "name": "ipython",
    "version": 3
   },
   "file_extension": ".py",
   "mimetype": "text/x-python",
   "name": "python",
   "nbconvert_exporter": "python",
   "pygments_lexer": "ipython3",
   "version": "3.11.10"
  }
 },
 "nbformat": 4,
 "nbformat_minor": 2
}
