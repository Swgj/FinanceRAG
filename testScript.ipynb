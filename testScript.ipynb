{
 "cells": [
  {
   "cell_type": "markdown",
   "metadata": {},
   "source": [
    "https://medium.com/@bavalpreetsinghh/llamaindex-chunking-strategies-for-large-language-models-part-1-ded1218cfd30"
   ]
  },
  {
   "cell_type": "code",
   "execution_count": 1,
   "metadata": {},
   "outputs": [
    {
     "name": "stderr",
     "output_type": "stream",
     "text": [
      "/opt/homebrew/anaconda3/envs/finrag/lib/python3.11/site-packages/sentence_transformers/cross_encoder/CrossEncoder.py:13: TqdmExperimentalWarning: Using `tqdm.autonotebook.tqdm` in notebook mode. Use `tqdm.tqdm` instead to force console mode (e.g. in jupyter console)\n",
      "  from tqdm.autonotebook import tqdm, trange\n"
     ]
    }
   ],
   "source": [
    "from src.rag.embedding_generator import docs_parse,generate_embeddings\n",
    "from src.rag.data_to_milvus import load_nodes_to_milvus\n",
    "from src.rag.data_to_milvus import create_milvus_collection, insert_embeddings_to_milvus\n",
    "from src.config import config\n",
    "import os"
   ]
  },
  {
   "cell_type": "code",
   "execution_count": 2,
   "metadata": {},
   "outputs": [
    {
     "data": {
      "text/plain": [
       "80"
      ]
     },
     "execution_count": 2,
     "metadata": {},
     "output_type": "execute_result"
    }
   ],
   "source": [
    "# Load Markdown files\n",
    "md_files = []\n",
    "md_files_dir = config.get_path('dataset', 'preprocessed_md')\n",
    "for root, dirs, files in os.walk(md_files_dir):\n",
    "    for file in files:\n",
    "        if file.endswith('.md'):\n",
    "            md_files.append(os.path.join(root, file))\n",
    "\n",
    "len(md_files)\n",
    "# md_file = '/Users/swgj/Documents/Code/python_project/FinanceRAG/data/markdown/0b46f7a2d67b5b59ad67cafffa0e12a9f0837790/0b46f7a2d67b5b59ad67cafffa0e12a9f0837790.md'\n",
    "# text, doc_ids = load_texts(md_fir)"
   ]
  },
  {
   "cell_type": "code",
   "execution_count": 3,
   "metadata": {},
   "outputs": [
    {
     "data": {
      "text/plain": [
       "'/Users/swgj/Documents/Code/python_project/FinanceRAG/data/preprocessed_md/4170a3382f5e92d32890780d79cb39115a756f40.md'"
      ]
     },
     "execution_count": 3,
     "metadata": {},
     "output_type": "execute_result"
    }
   ],
   "source": [
    "md_files[15]"
   ]
  },
  {
   "cell_type": "code",
   "execution_count": 4,
   "metadata": {},
   "outputs": [],
   "source": [
    "nodes = docs_parse(md_files)"
   ]
  },
  {
   "cell_type": "code",
   "execution_count": 5,
   "metadata": {},
   "outputs": [
    {
     "data": {
      "text/plain": [
       "23317"
      ]
     },
     "execution_count": 5,
     "metadata": {},
     "output_type": "execute_result"
    }
   ],
   "source": [
    "len(nodes)"
   ]
  },
  {
   "cell_type": "code",
   "execution_count": 6,
   "metadata": {},
   "outputs": [],
   "source": [
    "# for node in nodes:\n",
    "#     if node.id_ == '0934726b-2796-4725-bdcd-6faa389ed2a7':\n",
    "#         print(dict(node))"
   ]
  },
  {
   "cell_type": "code",
   "execution_count": 7,
   "metadata": {},
   "outputs": [
    {
     "data": {
      "text/plain": [
       "{'id_': '4c7608c6-65cb-4752-b529-24b6cb38a771',\n",
       " 'embedding': None,\n",
       " 'metadata': {'filename': 'c48b454b4d171ba375fb88a6469b0a1d7f4625c2.md',\n",
       "  'extension': '.md',\n",
       "  'Header_1': '浙江金卡高科技股份有限公司',\n",
       "  'Header_2': '浙江金卡高科技股份有限公司',\n",
       "  'Header_6': 'Zhejiang Goldcard High-Tech Co.，Ltd.'},\n",
       " 'excluded_embed_metadata_keys': [],\n",
       " 'excluded_llm_metadata_keys': [],\n",
       " 'relationships': {<NodeRelationship.SOURCE: '1'>: RelatedNodeInfo(node_id='1c980d98-1e4d-4f08-a376-04e2ffeb0b06', node_type=<ObjectType.DOCUMENT: '4'>, metadata={'filename': 'c48b454b4d171ba375fb88a6469b0a1d7f4625c2.md', 'extension': '.md'}, hash='bdc040de93a42ae1549ca371fc7fa3266cb4fa4725dc44b1409647b820d29c09'),\n",
       "  <NodeRelationship.PREVIOUS: '2'>: RelatedNodeInfo(node_id='bb7a4852-0b09-4e8a-8cf0-0923505c32c5', node_type=<ObjectType.TEXT: '1'>, metadata={'filename': 'c48b454b4d171ba375fb88a6469b0a1d7f4625c2.md', 'extension': '.md', 'Header_1': '浙江金卡高科技股份有限公司', 'Header_2': '浙江金卡高科技股份有限公司'}, hash='897c1b0c509231a5d452a9b5740ab9253784844103454bc8357664a3d4a152a8'),\n",
       "  <NodeRelationship.NEXT: '3'>: RelatedNodeInfo(node_id='dd4fd68c-77d7-448a-a948-2d3e6213328b', node_type=<ObjectType.TEXT: '1'>, metadata={'filename': 'c48b454b4d171ba375fb88a6469b0a1d7f4625c2.md', 'extension': '.md', 'Header_1': '浙江金卡高科技股份有限公司', 'Header_2': '浙江金卡高科技股份有限公司', 'Header_5': '（乐清经济开发区经六路 151 号）'}, hash='bd9e159f97134b245bd7d66998f27d811a94f18fbbdb7012d9130a0124c9d815')},\n",
       " 'text': 'Zhejiang Goldcard High-Tech Co.，Ltd.',\n",
       " 'mimetype': 'text/plain',\n",
       " 'start_char_idx': 202,\n",
       " 'end_char_idx': 238,\n",
       " 'text_template': '{metadata_str}\\n\\n{content}',\n",
       " 'metadata_template': '{key}: {value}',\n",
       " 'metadata_seperator': '\\n'}"
      ]
     },
     "execution_count": 7,
     "metadata": {},
     "output_type": "execute_result"
    }
   ],
   "source": [
    "dict(nodes[10])"
   ]
  },
  {
   "cell_type": "code",
   "execution_count": 8,
   "metadata": {},
   "outputs": [
    {
     "name": "stderr",
     "output_type": "stream",
     "text": [
      "huggingface/tokenizers: The current process just got forked, after parallelism has already been used. Disabling parallelism to avoid deadlocks...\n",
      "To disable this warning, you can either:\n",
      "\t- Avoid using `tokenizers` before the fork if possible\n",
      "\t- Explicitly set the environment variable TOKENIZERS_PARALLELISM=(true | false)\n"
     ]
    }
   ],
   "source": [
    "index = load_nodes_to_milvus(nodes)"
   ]
  },
  {
   "cell_type": "code",
   "execution_count": 9,
   "metadata": {},
   "outputs": [],
   "source": [
    "from llama_index.llms.ollama import Ollama\n",
    "from llama_index.core import Settings\n",
    "Settings.llm = Ollama(model=\"qwen2.5\")\n",
    "query_engine = index.as_chat_engine()"
   ]
  },
  {
   "cell_type": "code",
   "execution_count": 10,
   "metadata": {},
   "outputs": [],
   "source": [
    "res = query_engine.query(\"中国铁路通信信号有限公司发行前每股净资产为多少？\")"
   ]
  },
  {
   "cell_type": "code",
   "execution_count": 11,
   "metadata": {},
   "outputs": [
    {
     "name": "stdout",
     "output_type": "stream",
     "text": [
      "中国铁路通信信号有限公司发行前每股净资产为3.29元。\n"
     ]
    }
   ],
   "source": [
    "print(res)"
   ]
  },
  {
   "cell_type": "code",
   "execution_count": 12,
   "metadata": {},
   "outputs": [
    {
     "name": "stdout",
     "output_type": "stream",
     "text": [
      "{'node': TextNode(id_='a9df9d69-4200-4e19-8f38-9818c413dca5', embedding=None, metadata={'filename': '4170a3382f5e92d32890780d79cb39115a756f40.md', 'extension': '.md', 'Header_1': '中国铁路通信信号股份有限公司', 'Header_2': '首次公开发行股票并在科创板上市', 'Header_3': '第二节 概 览', 'Header_5': '三、发行人报告期主要财务数据和财务指标'}, excluded_embed_metadata_keys=[], excluded_llm_metadata_keys=[], relationships={<NodeRelationship.SOURCE: '1'>: RelatedNodeInfo(node_id='b5edb28b-9afa-4653-a904-ced4fe9b6495', node_type=<ObjectType.DOCUMENT: '4'>, metadata={'filename': '4170a3382f5e92d32890780d79cb39115a756f40.md', 'extension': '.md'}, hash='14b8dbb4b11ec4c7c00e1076e5dbeaa77d164380c76a8a277f81b9b13533489a'), <NodeRelationship.PREVIOUS: '2'>: RelatedNodeInfo(node_id='9990f677-8217-4bda-89c8-6290be7ef10f', node_type=<ObjectType.TEXT: '1'>, metadata={'filename': '4170a3382f5e92d32890780d79cb39115a756f40.md', 'extension': '.md', 'Header_1': '中国铁路通信信号股份有限公司', 'Header_2': '首次公开发行股票并在科创板上市', 'Header_3': '第二节 概 览', 'Header_5': '二、本次发行概况'}, hash='644dd21437a189ccc1b41253b927337cb24f8a5fc2768e8cd4c7a6aaac7ad13f'), <NodeRelationship.NEXT: '3'>: RelatedNodeInfo(node_id='a547bea7-6fb1-405d-9984-c7dc71dcd0ef', node_type=<ObjectType.TEXT: '1'>, metadata={'filename': '4170a3382f5e92d32890780d79cb39115a756f40.md', 'extension': '.md', 'Header_1': '中国铁路通信信号股份有限公司', 'Header_2': '首次公开发行股票并在科创板上市', 'Header_3': '第二节 概 览', 'Header_5': '四、发行人主营业务经营情况'}, hash='e8a9c69b9ffe1c3c8dab747c4ccf39974c6ed7e2bce82ed366f48b2c238fbca7')}, text='三、发行人报告期主要财务数据和财务指标\\n\\n**2018 年** **12 月** **31 日** **2017 年** **12 月** **31 日** **2016 年** **12 月** **31 日**\\n项目\\n\\n**/2018 年度** **/2017 年度** **/2016 年度**\\n\\n资产总额（万元） 7,967,853.76 6,124,464.46 5,029,500.66\\n\\n归属于母公司所有者\\n2,890,839.67 2,401,905.09 2,165,663.79\\n权益（万元）\\n\\n资产负债率（母公司）\\n44.78 50.03 46.91\\n（%）\\n\\n营业收入（万元） 4,001,260.13 3,458,593.36 2,977,019.66\\n\\n净利润（万元） 371,679.53 343,719.43 319,848.19\\n\\n归属于母公司所有者\\n340,854.55 322,248.36 304,500.03\\n的净利润（万元）\\n\\n扣除非经常性损益后\\n归属于母公司所有者 329,519.07 309,181.56 283,468.31\\n的净利润\\n\\n基本每股收益（元） 0.38 0.37 0.35\\n\\n稀释每股收益（元） 0.38 0.37 0.35\\n\\n加权平均净资产收益\\n13.58 14.09 15.03\\n率（%）\\n\\n经营活动产生的现金\\n-158,678.99 -88,601.84 293,505.77\\n流量净额（万元）\\n\\n现金分红（万元） 131,847.29 87,898.19 21,974.55\\n\\n研发投入占营业收入\\n3.45 3.41 3.53\\n的比例（%）', mimetype='text/plain', start_char_idx=38972, end_char_idx=39679, text_template='{metadata_str}\\n\\n{content}', metadata_template='{key}: {value}', metadata_seperator='\\n'), 'score': 0.7587858438491821}\n"
     ]
    }
   ],
   "source": [
    "print(dict(res.source_nodes[0]))"
   ]
  },
  {
   "cell_type": "code",
   "execution_count": 22,
   "metadata": {},
   "outputs": [],
   "source": [
    "from llama_index.vector_stores.deeplake import DeepLakeVectorStore\n",
    "from llama_index.vector_stores.milvus import MilvusVectorStore\n"
   ]
  },
  {
   "cell_type": "code",
   "execution_count": 15,
   "metadata": {},
   "outputs": [],
   "source": [
    "index.storage_context.persist(persist_dir='data/milvus')"
   ]
  },
  {
   "cell_type": "code",
   "execution_count": 20,
   "metadata": {},
   "outputs": [
    {
     "name": "stderr",
     "output_type": "stream",
     "text": []
    },
    {
     "data": {
      "text/plain": [
       "DeepLakeVectorStore(stores_text=True, is_embedding_query=True, flat_metadata=True, ingestion_batch_size=1024, num_workers=4, token=None, read_only=False, dataset_path='data/milvus_deep')"
      ]
     },
     "execution_count": 20,
     "metadata": {},
     "output_type": "execute_result"
    }
   ],
   "source": [
    "DeepLakeVectorStore('data/milvus_deep')"
   ]
  },
  {
   "cell_type": "code",
   "execution_count": 21,
   "metadata": {},
   "outputs": [
    {
     "name": "stderr",
     "output_type": "stream",
     "text": [
      "WARNING:root:Removing unpickleable private attribute _chunking_tokenizer_fn\n",
      "WARNING:root:Removing unpickleable private attribute _split_fns\n",
      "WARNING:root:Removing unpickleable private attribute _sub_sentence_split_fns\n"
     ]
    }
   ],
   "source": [
    "# pkl save\n",
    "import pickle\n",
    "with open('data/milvus.pkl', 'wb') as f:\n",
    "    pickle.dump(index, f)"
   ]
  },
  {
   "cell_type": "code",
   "execution_count": 1,
   "metadata": {},
   "outputs": [],
   "source": [
    "from pymilvus import MilvusClient\n",
    "from llama_index.core import VectorStoreIndex\n",
    "from llama_index.vector_stores.milvus import MilvusVectorStore\n",
    "from llama_index.core import StorageContext\n",
    "\n",
    "# initialize client\n",
    "client = MilvusClient(uri='data/milvus_md.db')\n",
    "# db = chromadb.PersistentClient(path=\"./chroma_db\")\n",
    "\n"
   ]
  },
  {
   "cell_type": "code",
   "execution_count": 2,
   "metadata": {},
   "outputs": [],
   "source": [
    "# get collection\n",
    "# chroma_collection = db.get_or_create_collection(\"quickstart\")\n",
    "# collection = client.get(collection_name='llamacollection')\n",
    "\n",
    "from llama_index.llms.ollama import Ollama\n",
    "from llama_index.core import Settings\n",
    "from src.rag.data_to_milvus import embedding_model\n",
    "from src.config import config\n",
    "\n",
    "Settings.llm = Ollama(model=\"qwen2.5\")\n",
    "Settings.embed_model = embedding_model(config.get_path('models','embedding'))\n",
    "# query_engine = index.as_chat_engine()\n",
    "\n",
    "# assign chroma as the vector_store to the context\n",
    "vector_store = MilvusVectorStore(uri='data/milvus_md.db')\n",
    "# vector_store = MilvusVectorStore(uri='data/milvus_md.db', collection_name='llamacollection')\n",
    "# vector_store = ChromaVectorStore(chroma_collection=chroma_collection)\n",
    "storage_context = StorageContext.from_defaults(vector_store=vector_store)\n",
    "\n",
    "# load your index from stored vectors\n",
    "index_new = VectorStoreIndex.from_vector_store(\n",
    "    vector_store, storage_context=storage_context\n",
    ")"
   ]
  },
  {
   "cell_type": "code",
   "execution_count": 15,
   "metadata": {},
   "outputs": [
    {
     "name": "stderr",
     "output_type": "stream",
     "text": [
      "WARNING:root:Removing unpickleable private attribute _chunking_tokenizer_fn\n",
      "WARNING:root:Removing unpickleable private attribute _split_fns\n",
      "WARNING:root:Removing unpickleable private attribute _sub_sentence_split_fns\n"
     ]
    }
   ],
   "source": [
    "# import pickle\n",
    "# with open('data/milvus_new.pkl', 'wb') as f:\n",
    "#     pickle.dump(index_new, f)\n"
   ]
  },
  {
   "cell_type": "code",
   "execution_count": 3,
   "metadata": {},
   "outputs": [
    {
     "name": "stderr",
     "output_type": "stream",
     "text": [
      "huggingface/tokenizers: The current process just got forked, after parallelism has already been used. Disabling parallelism to avoid deadlocks...\n",
      "To disable this warning, you can either:\n",
      "\t- Avoid using `tokenizers` before the fork if possible\n",
      "\t- Explicitly set the environment variable TOKENIZERS_PARALLELISM=(true | false)\n"
     ]
    },
    {
     "name": "stdout",
     "output_type": "stream",
     "text": [
      "中国铁路通信信号有限公司发行前每股净资产为3.29元。\n"
     ]
    }
   ],
   "source": [
    "# create a query engine\n",
    "query_engine = index_new.as_query_engine()\n",
    "# response = query_engine.query(\"介绍一下武汉力源信息技术股份有限公司?\")\n",
    "response = query_engine.query(\"中国铁路通信信号有限公司发行前每股净资产为多少？\")\n",
    "print(response)"
   ]
  },
  {
   "cell_type": "code",
   "execution_count": 4,
   "metadata": {},
   "outputs": [
    {
     "data": {
      "text/plain": [
       "'> Source (Doc id: a9df9d69-4200-4e19-8f38-9818c413dca5): 三、发行人报告期主要财务数据和财务指标\\n\\n**2018 年** **12 月** **31 日** **2017 年** **12 月** **31 日** **2016 年** **12 月*...\\n\\n> Source (Doc id: cf24631d-cf4e-422d-99ef-76b174699e61): 十一、发行人主要财务指标\\n\\n（一）基本财务指标\\n\\n**2018 年** **2017 年** **2016 年**\\n项目\\n\\n**12 月** **31 日** **12 月** **31 日**...'"
      ]
     },
     "execution_count": 4,
     "metadata": {},
     "output_type": "execute_result"
    }
   ],
   "source": [
    "response.get_formatted_sources()"
   ]
  },
  {
   "cell_type": "code",
   "execution_count": 5,
   "metadata": {},
   "outputs": [
    {
     "name": "stdout",
     "output_type": "stream",
     "text": [
      "中国铁路通信信号股份有限公司主要从事轨道交通控制系统的设计集成、设备制造及系统交付。公司致力于提供CTCS列车运行控制系统、城市轨道交通CBTC系统、货运铁路CIPS综合自动化系统等的研发与应用，并且在国内市场积累了丰富的建设经验，持续拓展海外市场。\n",
      "\n",
      "截至信息提供的日期，公司在技术创新方面取得了显著成就，拥有6个省部级重点实验室、工程技术研究中心，1个国家企业技术中心，1个国家工业设计中心，15个省级企业技术中心，以及6个院士专家工作站和3个博士后科研流动工作站。这些平台和技术资源为公司的研发工作提供了坚实的支持。\n",
      "\n",
      "凭借强大的研发实力和技术积累，中国铁路通信信号股份有限公司在铁路、城市轨道交通等领域取得了多项重要科技成果，并将继续加大投入，利用如北斗定位、人工智能、下一代移动通信、大数据等前沿科技，进一步提升其在列车运行控制核心技术、轨道交通智能运维、智慧城市及行业通信信息领域的竞争力。\n",
      "\n",
      "主要竞争对手包括铁科院和和利时。这些信息展示了公司在市场和技术方面的优势及其面临的竞争环境。\n"
     ]
    }
   ],
   "source": [
    "res = query_engine.query(\"中国铁路通信信号有限公司的介绍\")\n",
    "print(res)"
   ]
  },
  {
   "cell_type": "code",
   "execution_count": 8,
   "metadata": {},
   "outputs": [
    {
     "data": {
      "text/plain": [
       "2"
      ]
     },
     "execution_count": 8,
     "metadata": {},
     "output_type": "execute_result"
    }
   ],
   "source": [
    "len(res.source_nodes)"
   ]
  },
  {
   "cell_type": "code",
   "execution_count": null,
   "metadata": {},
   "outputs": [],
   "source": []
  }
 ],
 "metadata": {
  "kernelspec": {
   "display_name": "finrag",
   "language": "python",
   "name": "python3"
  },
  "language_info": {
   "codemirror_mode": {
    "name": "ipython",
    "version": 3
   },
   "file_extension": ".py",
   "mimetype": "text/x-python",
   "name": "python",
   "nbconvert_exporter": "python",
   "pygments_lexer": "ipython3",
   "version": "3.11.10"
  }
 },
 "nbformat": 4,
 "nbformat_minor": 2
}
